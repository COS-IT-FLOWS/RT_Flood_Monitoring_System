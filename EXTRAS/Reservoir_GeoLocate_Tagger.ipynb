{
 "cells": [
  {
   "cell_type": "code",
   "execution_count": 1,
   "id": "6588310f-6bf7-4bb4-8cd1-1da481f4fad4",
   "metadata": {},
   "outputs": [],
   "source": [
    "import geojson\n",
    "import geopandas as gpd\n",
    "from pathlib import Path\n",
    "from shapely.geometry import shape, Point\n",
    "from geopandas.tools import sjoin"
   ]
  },
  {
   "cell_type": "code",
   "execution_count": 2,
   "id": "6f599049-76ae-43ff-b728-11769d013659",
   "metadata": {},
   "outputs": [],
   "source": [
    "def geojson_loader(filename):\n",
    "    with open(filename) as f:\n",
    "        geojson_rsrc = gpd.read_file(f)\n",
    "    return geojson_rsrc"
   ]
  },
  {
   "cell_type": "code",
   "execution_count": 3,
   "id": "2a924e8a-9ad4-4bfa-bf49-91a6359d6a0c",
   "metadata": {},
   "outputs": [],
   "source": [
    "targetFile = 'River_Stations.geojson'"
   ]
  },
  {
   "cell_type": "code",
   "execution_count": 4,
   "id": "1a7d21df-d8c5-4c37-bc5e-38a514e022f3",
   "metadata": {},
   "outputs": [],
   "source": [
    "river_basin_rsrc = geojson_loader('River_Basins.geojson')\n",
    "reservoir_rsrc = geojson_loader(targetFile)"
   ]
  },
  {
   "cell_type": "code",
   "execution_count": 5,
   "id": "16ba6305-7eed-4146-b926-bde4c3fd1c76",
   "metadata": {},
   "outputs": [],
   "source": [
    "river_basin_rsrc = river_basin_rsrc[['Id', 'geometry']]"
   ]
  },
  {
   "cell_type": "code",
   "execution_count": 6,
   "id": "f44c9c15-9a3a-4629-960b-d1b00278f1c5",
   "metadata": {},
   "outputs": [],
   "source": [
    "river_basin_rsrc.columns = ['Basin_ID', 'geometry']\n",
    "river_basin_rsrc['Basin_ID'] = river_basin_rsrc['Basin_ID'].astype('str')"
   ]
  },
  {
   "cell_type": "code",
   "execution_count": 7,
   "id": "fdeaa584-678b-43d9-877d-d240c4ffb0bd",
   "metadata": {},
   "outputs": [],
   "source": [
    "reservoirsInBasin = sjoin(reservoir_rsrc, river_basin_rsrc, how='left')"
   ]
  },
  {
   "cell_type": "code",
   "execution_count": 8,
   "id": "e3e865e8-0f93-4286-979b-3b1aad200c4e",
   "metadata": {},
   "outputs": [],
   "source": [
    "output_reservoir_rsrc = reservoirsInBasin[reservoirsInBasin['Basin_ID'].notna()]"
   ]
  },
  {
   "cell_type": "code",
   "execution_count": 9,
   "id": "c0cfb9ac-de8d-4e91-9dcd-6404832aa9d1",
   "metadata": {},
   "outputs": [],
   "source": [
    "output_reservoir_rsrc.to_file(targetFile, driver='GeoJSON')"
   ]
  }
 ],
 "metadata": {
  "kernelspec": {
   "display_name": "Python [conda env:PLOTTING-ENV]",
   "language": "python",
   "name": "conda-env-PLOTTING-ENV-py"
  },
  "language_info": {
   "codemirror_mode": {
    "name": "ipython",
    "version": 3
   },
   "file_extension": ".py",
   "mimetype": "text/x-python",
   "name": "python",
   "nbconvert_exporter": "python",
   "pygments_lexer": "ipython3",
   "version": "3.9.4"
  }
 },
 "nbformat": 4,
 "nbformat_minor": 5
}
