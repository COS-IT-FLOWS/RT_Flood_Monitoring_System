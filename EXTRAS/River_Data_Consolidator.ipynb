{
 "cells": [
  {
   "cell_type": "code",
   "execution_count": 1,
   "id": "fcca0af1-5a64-4a2d-ae71-097c08e10f9c",
   "metadata": {},
   "outputs": [],
   "source": [
    "import pandas as pd\n",
    "from pathlib import Path"
   ]
  },
  {
   "cell_type": "code",
   "execution_count": 2,
   "id": "b8d606b9-ea15-4d2a-a722-b66be7b01622",
   "metadata": {},
   "outputs": [],
   "source": [
    "staticDF = pd.read_csv('River_Stations_Static.csv')\n",
    "staticDF = staticDF[staticDF['Station_ID'].notna()]\n",
    "staticDF = staticDF.set_index('Station_ID')"
   ]
  },
  {
   "cell_type": "code",
   "execution_count": 3,
   "id": "5985ba66-86fc-4e29-8e7d-0f561038dddb",
   "metadata": {},
   "outputs": [],
   "source": [
    "dataPath = Path('/home/darth/Equinoct/Flood_Forecast/Code/Climate/CWC_RiverLevel_ByHour/Output')\n",
    "consolidatedDF = pd.DataFrame(columns = ['TimeStamp', 'Level(m)', 'Trend'])"
   ]
  },
  {
   "cell_type": "code",
   "execution_count": 4,
   "id": "af3c2f20-7feb-4a35-b0c0-9c4893abc0ba",
   "metadata": {},
   "outputs": [],
   "source": [
    "for index, row in staticDF.iterrows():\n",
    "    df = pd.read_csv(dataPath/(row['Station'] + '.csv'))\n",
    "    df = df.tail(1).drop(['DateTime'], axis = 1)\n",
    "#     print(df.values)\n",
    "    consolidatedDF.loc[index] = df.values[0]\n",
    "#     break"
   ]
  },
  {
   "cell_type": "code",
   "execution_count": 5,
   "id": "8e629acd-bd4a-4d6a-8e3d-5b9d8718a94f",
   "metadata": {},
   "outputs": [],
   "source": [
    "consolidatedDF.index.name = 'Station_ID'\n",
    "consolidatedDF.to_csv('/home/darth/Equinoct/Flood_Forecast/Code/Climate/WMS/Data/River/Dynamic.csv')"
   ]
  },
  {
   "cell_type": "code",
   "execution_count": null,
   "id": "dd75d454-930a-4a17-bbb2-2c92e904f733",
   "metadata": {},
   "outputs": [],
   "source": []
  }
 ],
 "metadata": {
  "kernelspec": {
   "display_name": "Python [conda env:PLOTTING-ENV]",
   "language": "python",
   "name": "conda-env-PLOTTING-ENV-py"
  },
  "language_info": {
   "codemirror_mode": {
    "name": "ipython",
    "version": 3
   },
   "file_extension": ".py",
   "mimetype": "text/x-python",
   "name": "python",
   "nbconvert_exporter": "python",
   "pygments_lexer": "ipython3",
   "version": "3.9.4"
  }
 },
 "nbformat": 4,
 "nbformat_minor": 5
}
