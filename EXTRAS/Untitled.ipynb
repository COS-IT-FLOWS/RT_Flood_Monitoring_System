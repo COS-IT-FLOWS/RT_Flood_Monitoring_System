{
 "cells": [
  {
   "cell_type": "code",
   "execution_count": 1,
   "id": "185bae30-f137-4603-8037-9497523f45ef",
   "metadata": {},
   "outputs": [],
   "source": [
    "import geopandas as gpd"
   ]
  },
  {
   "cell_type": "code",
   "execution_count": 2,
   "id": "5eefffe1-409b-4cf2-8e2f-d5b1467a798e",
   "metadata": {},
   "outputs": [],
   "source": [
    "stations = gpd.read_file('River_gauge_CWC_India.geojson')\n",
    "# stations = gpd.read_file('Dams_India_Pachu_Final.geojson')"
   ]
  },
  {
   "cell_type": "code",
   "execution_count": 3,
   "id": "60a1e0fb-188b-4142-8dd6-8cd9be86d151",
   "metadata": {},
   "outputs": [],
   "source": [
    "def name_gen(stie):\n",
    "    if stie is not None:\n",
    "        return stie.split('_')[-1]\n",
    "    return None"
   ]
  },
  {
   "cell_type": "code",
   "execution_count": 4,
   "id": "a42fc3f7-6ec7-4145-af71-2d8383d42733",
   "metadata": {},
   "outputs": [],
   "source": [
    "stations['Station_ID'] = stations.index.values\n",
    "stations['Station_ID'] = stations['Station_ID'].map(lambda x: 'RSVR{0:0>4}'.format(x))\n",
    "stations['Station_Type'] = 'Reservoir_Station'\n",
    "stations['Station_Name'] = stations['Basin_Stie'].apply(lambda x: name_gen(x))"
   ]
  },
  {
   "cell_type": "code",
   "execution_count": 5,
   "id": "0cf50120-192a-4615-9463-dbffa0816327",
   "metadata": {},
   "outputs": [],
   "source": [
    "stations.to_file('River_Stations.geojson', driver='GeoJSON')"
   ]
  },
  {
   "cell_type": "code",
   "execution_count": null,
   "id": "16b9c907-ccef-4d2c-86a8-3e8e56324a36",
   "metadata": {},
   "outputs": [],
   "source": []
  }
 ],
 "metadata": {
  "kernelspec": {
   "display_name": "Python [conda env:PLOTTING-ENV]",
   "language": "python",
   "name": "conda-env-PLOTTING-ENV-py"
  },
  "language_info": {
   "codemirror_mode": {
    "name": "ipython",
    "version": 3
   },
   "file_extension": ".py",
   "mimetype": "text/x-python",
   "name": "python",
   "nbconvert_exporter": "python",
   "pygments_lexer": "ipython3",
   "version": "3.9.4"
  }
 },
 "nbformat": 4,
 "nbformat_minor": 5
}
